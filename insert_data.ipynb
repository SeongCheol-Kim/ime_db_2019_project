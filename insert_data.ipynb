{
 "cells": [
  {
   "cell_type": "code",
   "execution_count": 1,
   "metadata": {},
   "outputs": [],
   "source": [
    "import pandas as pd\n",
    "import os\n",
    "\n",
    "from sql_model import *\n",
    "from sqlalchemy.orm import sessionmaker\n",
    "from sqlalchemy import create_engine"
   ]
  },
  {
   "cell_type": "code",
   "execution_count": 2,
   "metadata": {},
   "outputs": [],
   "source": [
    "ROOT_DIR = os.getcwd()\n",
    "SECRET_DIR = os.path.join(ROOT_DIR, '.secrets')\n",
    "\n",
    "secrets = json.load(open(os.path.join(SECRET_DIR, \"secrets.json\")))\n",
    "\n",
    "\n",
    "engine = create_engine('mysql+pymysql://{}:{}@{}:{}/{}'.format(\n",
    "    secrets['RDS_USER_ID'],\n",
    "    secrets['RDS_USER_PASSWORD'],\n",
    "    secrets['RDS_USER_URL'],\n",
    "    secrets['RDS_PORT'],\n",
    "    secrets['DATABASE_NAME']\n",
    "))"
   ]
  },
  {
   "cell_type": "code",
   "execution_count": 3,
   "metadata": {},
   "outputs": [],
   "source": [
    "Sessoion = sessionmaker(bind=engine)\n",
    "session = Sessoion()"
   ]
  },
  {
   "cell_type": "code",
   "execution_count": 4,
   "metadata": {
    "scrolled": false
   },
   "outputs": [
    {
     "name": "stderr",
     "output_type": "stream",
     "text": [
      "C:\\Users\\MSI\\.conda\\envs\\dbs\\lib\\site-packages\\pymysql\\cursors.py:170: Warning: (1366, \"Incorrect string value: '\\\\xB4\\\\xEB\\\\xC7\\\\xD1\\\\xB9\\\\xCE...' for column 'VARIABLE_VALUE' at row 485\")\n",
      "  result = self._query(query)\n"
     ]
    }
   ],
   "source": [
    "Base.metadata.create_all(engine)"
   ]
  },
  {
   "cell_type": "code",
   "execution_count": 5,
   "metadata": {},
   "outputs": [],
   "source": [
    "data_dir = ['category.csv', 'facility.csv', 'region.csv', 'info.csv']"
   ]
  },
  {
   "cell_type": "code",
   "execution_count": 6,
   "metadata": {
    "scrolled": true
   },
   "outputs": [
    {
     "name": "stdout",
     "output_type": "stream",
     "text": [
      "category.csv DB CREATE\n",
      "facility.csv DB CREATE\n",
      "region.csv DB CREATE\n",
      "info.csv DB CREATE\n"
     ]
    }
   ],
   "source": [
    "for file_path in data_dir:\n",
    "    data = pd.read_csv('./data/{}'.format(file_path), keep_default_na=False, encoding=\"cp949\", header=None)\n",
    "    if file_path == 'info.csv':\n",
    "        for index in range(len(data)):\n",
    "            row = Information(\n",
    "                name = data.loc[index][3],\n",
    "                tel = data.loc[index][4],\n",
    "                fare = data.loc[index][5],\n",
    "                latitude = float(data.loc[index][6]),\n",
    "                longitude = float(data.loc[index][7])\n",
    "            )\n",
    "            row.region_id = (session.query(Region).filter(Region.code == data.loc[index][0]).all())[0].id\n",
    "            row.facility_id = (session.query(Facility).filter(Facility.code == data.loc[index][1]).all())[0].id\n",
    "            row.category_id = (session.query(Category).filter(Category.name == data.loc[index][2]).all())[0].id\n",
    "            session.add(row)\n",
    "        session.commit()\n",
    "        print(\"{} DB CREATE\".format(file_path))\n",
    "\n",
    "    elif file_path == 'facility.csv':\n",
    "        for index in range(len(data)):\n",
    "            row = Facility(\n",
    "                code=data.loc[index][0],\n",
    "                name=data.loc[index][1]\n",
    "            )\n",
    "            session.add(row)\n",
    "        session.commit()\n",
    "        print(\"{} DB CREATE\".format(file_path))\n",
    "    \n",
    "    elif file_path == 'category.csv':\n",
    "        for index in range(len(data)):\n",
    "            row = Category(\n",
    "                name=data.loc[index][0]\n",
    "            )\n",
    "            session.add(row)\n",
    "        session.commit()\n",
    "        print(\"{} DB CREATE\".format(file_path))\n",
    "\n",
    "    else:\n",
    "        for index in range(len(data)):\n",
    "            row = Region(\n",
    "                code=data.loc[index][0],\n",
    "                name=data.loc[index][1]\n",
    "            )\n",
    "\n",
    "            session.add(row)\n",
    "        session.commit()\n",
    "        print(\"{} DB CREATE\".format(file_path))"
   ]
  }
 ],
 "metadata": {
  "kernelspec": {
   "display_name": "Python 3",
   "language": "python",
   "name": "python3"
  },
  "language_info": {
   "codemirror_mode": {
    "name": "ipython",
    "version": 3
   },
   "file_extension": ".py",
   "mimetype": "text/x-python",
   "name": "python",
   "nbconvert_exporter": "python",
   "pygments_lexer": "ipython3",
   "version": "3.5.6"
  }
 },
 "nbformat": 4,
 "nbformat_minor": 2
}
