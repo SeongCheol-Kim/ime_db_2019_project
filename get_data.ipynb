{
 "cells": [
  {
   "cell_type": "code",
   "execution_count": 1,
   "metadata": {},
   "outputs": [],
   "source": [
    "import os\n",
    "import re\n",
    "import pandas as pd\n",
    "from bs4 import BeautifulSoup\n",
    "import requests\n",
    "from sqlalchemy import create_engine\n",
    "import json\n",
    "import pymysql"
   ]
  },
  {
   "cell_type": "code",
   "execution_count": 2,
   "metadata": {},
   "outputs": [],
   "source": [
    "def read_data(filename):\n",
    "    \n",
    "    with open(filename, 'r') as f:\n",
    "        data = [line.split('\\t') for line in f.read().splitlines()]\n",
    "        api_key = data[0][1]\n",
    "        category = list()\n",
    "        urls = list()\n",
    "        for row in data[1:]:\n",
    "            category.append(row[0])\n",
    "            urls.append(row[1])\n",
    "            \n",
    "    return api_key, category, urls"
   ]
  },
  {
   "cell_type": "code",
   "execution_count": 9,
   "metadata": {},
   "outputs": [],
   "source": [
    "def make_frame(api_key, category, urls, startnumber, endnumber):        # 데이터 분류 및 저장\n",
    "    \n",
    "    region = {'지구구분 코드':['GIGU001','GIGU002','GIGU003','GIGU004','GIGU005','GIGU006','GIGU007','GIGU009','GIGU010','GIGU011', 'GIGU012'],\n",
    "         '이름':['잠실지구', '광나루지구', '뚝섬지구', '잠원지구', '반포지구', '이촌지구', '여의도지구', '양화지구', '난지지구', '망원지구','강서지구']}\n",
    "    region_df = pd.DataFrame(region)\n",
    "    region_df = region_df[['지구구분 코드', '이름']]\n",
    "    region_df.to_csv(\"./data/region.csv\", mode='w', encoding='cp949', header=False, index=False)\n",
    "    \n",
    "    facilities = {'지형지물 코드':['ABB003', 'AB003', 'ABB100', 'ABB109', 'AAB104', 'ABB103', 'ABB101', 'ABB102', 'ABB201', 'ABB012', 'AAB670', 'ADA037', 'ABB112'],\n",
    "                  '이름':['Tennis1', 'Tennis2', 'Soccer', 'Baseball', 'Gateball', 'Basketball', 'Volleyball', 'Badminton', 'WaterLeisure', 'Pool', 'InlineSkate1', 'InlineSkate2', 'Jokgu']\n",
    "        \n",
    "    }\n",
    "    facility_df = pd.DataFrame(facilities)\n",
    "    facility_df = facility_df[['지형지물 코드', '이름']]\n",
    "    facility_df.to_csv(\"./data/facility.csv\", mode='w', encoding='cp949', header=False, index=False)\n",
    "    \n",
    "    for i in range(len(urls)):\n",
    "        url = urls[i].replace(\"(인증키)\",api_key)\n",
    "        url += str(startnumber)+'/'+str(endnumber)\n",
    "        req = requests.get(url)\n",
    "        html = req.text\n",
    "        soup = BeautifulSoup(html, 'html.parser')\n",
    "        tag_list = preprocess_tag_list(get_tag_list(soup))\n",
    "\n",
    "        if category[i] == 'Baseball':\n",
    "            del tag_list[4]\n",
    "        else:\n",
    "            del tag_list[3]\n",
    "\n",
    "        col_name = ['종목명', '지형지물 코드', '고유번호', '지구구분 코드', '이름', '전화번호', '요금안내', '위도', '경도']\n",
    "        total_info = dict()\n",
    "        total_info[col_name[0]] = category[i]\n",
    "        \n",
    "        for j in range(len(tag_list)):\n",
    "\n",
    "            temp = list()\n",
    "            for code in soup.find_all(tag_list[j]):\n",
    "                if code.text == ' ':\n",
    "                    temp.append('NULL')\n",
    "                else:\n",
    "                    temp.append(code.text)\n",
    "            if len(temp) != len(soup.find_all(tag_list[0])):\n",
    "                for _ in range(len(soup.find_all(tag_list[0])) - len(temp)):\n",
    "                    temp.append('NULL')\n",
    "            total_info[col_name[j+1]] = temp\n",
    "\n",
    "        df = pd.DataFrame(total_info)\n",
    "        df = df[['종목명', '지형지물 코드', '고유번호', '지구구분 코드', '이름', '전화번호', '요금안내', '위도', '경도']]\n",
    "        info_df = df[['지구구분 코드','지형지물 코드', '종목명', '이름', '전화번호', '요금안내', '위도', '경도']]\n",
    "        if os.path.isfile(\"./data/info.csv\") == False:\n",
    "            info_df.to_csv(\"./data/info.csv\", mode='w', encoding='cp949', header=False, index=False)\n",
    "        else:\n",
    "            info_df.to_csv(\"./data/info.csv\", mode='a', encoding='cp949', header=False, index=False)"
   ]
  },
  {
   "cell_type": "code",
   "execution_count": 4,
   "metadata": {},
   "outputs": [],
   "source": [
    "def get_tag_list(soup):                   # 필요한 Tag 선별\n",
    "    \n",
    "    tag_list = []\n",
    "    for link in soup.find('row'):\n",
    "        if link.name == None:\n",
    "            pass\n",
    "        elif link.name == 'objectid':\n",
    "            pass\n",
    "        elif link.name == 'h_org_code':\n",
    "            pass\n",
    "        elif link.name == 'mge_nam':\n",
    "            pass\n",
    "        elif link.name == 'pic':\n",
    "            pass\n",
    "        elif link.name == 'note':\n",
    "            pass\n",
    "        else:\n",
    "            tag_list.append(link.name)\n",
    "            \n",
    "    return tag_list"
   ]
  },
  {
   "cell_type": "code",
   "execution_count": 5,
   "metadata": {},
   "outputs": [],
   "source": [
    "def preprocess_tag_list(tag_list):             # Tag list 통일\n",
    "    \n",
    "    if 'rmk' not in tag_list:\n",
    "        tag_list.insert(-2, 'rmk')\n",
    "    if 'tel' not in tag_list:\n",
    "        tag_list.insert(-3, 'tel')\n",
    "    if 'idn' not in tag_list:\n",
    "        tag_list.insert(1, 'idn')\n",
    "    if len(tag_list) != 9:\n",
    "        tag_list.insert(3, tag_list[3]+'2')\n",
    "        \n",
    "    return tag_list"
   ]
  },
  {
   "cell_type": "code",
   "execution_count": 6,
   "metadata": {},
   "outputs": [],
   "source": [
    "api_key, category, urls = read_data('../url_data/info.txt')"
   ]
  },
  {
   "cell_type": "code",
   "execution_count": 7,
   "metadata": {},
   "outputs": [],
   "source": [
    "startnumber=1\n",
    "endnumber=50"
   ]
  },
  {
   "cell_type": "code",
   "execution_count": 10,
   "metadata": {
    "scrolled": true
   },
   "outputs": [],
   "source": [
    "make_frame(api_key, category, urls, startnumber, endnumber)"
   ]
  }
 ],
 "metadata": {
  "kernelspec": {
   "display_name": "Python 3",
   "language": "python",
   "name": "python3"
  },
  "language_info": {
   "codemirror_mode": {
    "name": "ipython",
    "version": 3
   },
   "file_extension": ".py",
   "mimetype": "text/x-python",
   "name": "python",
   "nbconvert_exporter": "python",
   "pygments_lexer": "ipython3",
   "version": "3.5.6"
  }
 },
 "nbformat": 4,
 "nbformat_minor": 2
}
